{
 "cells": [
  {
   "cell_type": "code",
   "execution_count": 1,
   "id": "a43d104a",
   "metadata": {},
   "outputs": [],
   "source": [
    "# Cargamos las librerías\n",
    "import pandas as pd\n",
    "import os\n",
    "import re"
   ]
  },
  {
   "cell_type": "code",
   "execution_count": 2,
   "id": "d9801d09",
   "metadata": {},
   "outputs": [
    {
     "name": "stdout",
     "output_type": "stream",
     "text": [
      "El directorio ya existe.\n"
     ]
    }
   ],
   "source": [
    "# Creamos un directorio si no existe para guardar los csv que creamos\n",
    "# Obtenemos el directorio actual donde está el notebook\n",
    "nombre_dir = 'data'\n",
    "directorio_actual = os.getcwd()\n",
    "ruta = os.path.join(directorio_actual, nombre_dir)\n",
    "\n",
    "# Comprobamos si existe o no el directorio\n",
    "if not os.path.exists(ruta):\n",
    "    os.makedirs(ruta)\n",
    "    print(f\"Directorio creado.\")\n",
    "else:\n",
    "    print(f\"El directorio ya existe.\")"
   ]
  },
  {
   "cell_type": "code",
   "execution_count": 3,
   "id": "86d18109",
   "metadata": {},
   "outputs": [],
   "source": [
    "# Cargamos los datos\n",
    "data = pd.read_csv('data/roda_pra1_visualizacion.csv', delimiter=',', decimal='.')\n",
    "data = data.fillna(0)"
   ]
  },
  {
   "cell_type": "code",
   "execution_count": 4,
   "id": "443c68a1",
   "metadata": {},
   "outputs": [],
   "source": [
    "# Creamos variables Renewable Consumption y Non Renewable Consumption\n",
    "data['Renewable Consumption'] = data['solar_consumption'] + data['wind_consumption'] + data['hydro_consumption'] + data['nuclear_consumption']\n",
    "data['Non Renewable Consumption'] = data['coal_consumption'] + data['oil_consumption'] + data['gas_consumption'] + data['fossil_fuel_consumption']\n",
    "\n",
    "# Excluimos la Antártida de los datos\n",
    "data = data[data['continent'] != 'Antarctica']"
   ]
  },
  {
   "cell_type": "code",
   "execution_count": 5,
   "id": "48372c62",
   "metadata": {},
   "outputs": [],
   "source": [
    "# Cambiamos el nombre de algunos paises\n",
    "data['country'] = data['country'].replace({\n",
    "    'United States': 'USA',\n",
    "    'United Kingdom': 'UK',\n",
    "    'South Korea': 'S. Korea'\n",
    "})"
   ]
  },
  {
   "cell_type": "code",
   "execution_count": 6,
   "id": "04e1873f",
   "metadata": {},
   "outputs": [],
   "source": [
    "# Filtramos los datos apartir de 1965\n",
    "data = data[data['year'] >= 1965]"
   ]
  },
  {
   "cell_type": "code",
   "execution_count": 7,
   "id": "a9828ab9",
   "metadata": {},
   "outputs": [],
   "source": [
    "# La función rename_columns para renombrar las columnas:\n",
    "# Reemplaza los guiones bajos (_) por espacios\n",
    "# Convierte todo el texto a minúsculas\n",
    "# Luego capitaliza solo la primera letra de la cadena\n",
    "\n",
    "def rename_columns(col):\n",
    "    if isinstance(col, int):  # Verificar si la columna es un número\n",
    "        return str(col)\n",
    "    col = col.replace('_', ' ').lower()\n",
    "    # Reemplazar 'co2' y 'gdp' por sus versiones en mayúsculas\n",
    "    col = re.sub(r'\\bco2\\b', 'CO2', col, flags=re.IGNORECASE)\n",
    "    col = re.sub(r'\\bgdp\\b', 'GDP', col, flags=re.IGNORECASE)\n",
    "    return col[0].upper() + col[1:]\n"
   ]
  },
  {
   "cell_type": "markdown",
   "id": "1b378b5d",
   "metadata": {},
   "source": [
    "# Pregunta 1: Consumo de combustibles fósiles y emisiones de CO2\n",
    "\n",
    "Objetivo:\n",
    "Evaluar cómo ha evolucionado el consumo de combustibles fósiles  y su impacto en las emisiones de CO2."
   ]
  },
  {
   "cell_type": "code",
   "execution_count": 8,
   "id": "02fe718d",
   "metadata": {},
   "outputs": [],
   "source": [
    "# Pregunta 1\n",
    "# Selecccionamos los datos relevantes \n",
    "df_fuel_emissions = data[['year','continent','country', 'population','coal_consumption', 'co2', 'oil_consumption', 'gas_consumption']]\n",
    "\n",
    "df_fuel_emissions = df_fuel_emissions.groupby(['year']).agg({\n",
    "    'co2': 'sum',\n",
    "    'coal_consumption': 'sum',\n",
    "    'oil_consumption': 'sum',\n",
    "    'gas_consumption': 'sum'\n",
    "}).reset_index()\n",
    "\n",
    "# Redondeamos los valores a 2 decimales\n",
    "df_fuel_emissions  = df_fuel_emissions .round(2)\n",
    "\n",
    "# Estandarizamos los nombres de las columnas\n",
    "df_fuel_emissions.columns = [rename_columns(col) for col in df_fuel_emissions.columns]\n",
    "\n",
    "# Guardamos los datos procesados para Flourish en un csv\n",
    "df_fuel_emissions.to_csv('data/pregunta1.csv', index=False)"
   ]
  },
  {
   "cell_type": "markdown",
   "id": "cb058624",
   "metadata": {},
   "source": [
    "## Pregunta 2: Impacto ambiental de los combustibles\n",
    "\n",
    "Objetivo:\n",
    "Analizar cómo se relacionan las emisiones de CO2 con el consumo de diferentes tipos de combustibles."
   ]
  },
  {
   "cell_type": "code",
   "execution_count": 9,
   "id": "7720742e",
   "metadata": {},
   "outputs": [],
   "source": [
    "# Pregunta 2\n",
    "# Selecccionamos los datos relevantes \n",
    "df_fuel_emissions = data[['year','continent','country', 'population','coal_consumption', 'co2', 'oil_consumption', 'gas_consumption', 'biofuel_consumption']]\n",
    "\n",
    "df_fuel_emissions = df_fuel_emissions.groupby(['year', 'continent','country']).agg({\n",
    "    'co2': 'sum',\n",
    "    'coal_consumption': 'sum',\n",
    "    'oil_consumption': 'sum',\n",
    "    'gas_consumption': 'sum',\n",
    "    'biofuel_consumption': 'sum'\n",
    "}).reset_index()\n",
    "\n",
    "# Transformamos los datos\n",
    "df_fuel_emissions = df_fuel_emissions.melt(id_vars=['year', 'continent', 'country', 'co2'],\n",
    "                    value_vars=['coal_consumption', 'oil_consumption', 'gas_consumption', 'biofuel_consumption'],\n",
    "                    var_name='fuel',\n",
    "                    value_name='fuel_quantity')\n",
    "\n",
    "# Quitamos el sufijo '_consumption' en la columna 'fuel'\n",
    "df_fuel_emissions['fuel'] = df_fuel_emissions['fuel'].str.replace('_consumption', '')\n",
    "\n",
    "# Eliminamos las filas donde 'co2' o 'fuel_quantity' sean iguales a 0\n",
    "df_fuel_emissions = df_fuel_emissions[(df_fuel_emissions['co2'] != 0) & (df_fuel_emissions['fuel_quantity'] != 0)]\n",
    "\n",
    "# Estandarizamos los nombres de las columnas\n",
    "df_fuel_emissions.columns = [rename_columns(col) for col in df_fuel_emissions.columns]\n",
    "\n",
    "# Guardamos los datos procesados para Flourish en un csv\n",
    "df_fuel_emissions.to_csv('data/pregunta2.csv', index=False)"
   ]
  },
  {
   "cell_type": "markdown",
   "id": "36cdaf92",
   "metadata": {},
   "source": [
    "# Pregunta 3: Transición energética\n",
    "\n",
    "Objetivo:\n",
    "Analizar cómo ha evolucionado el consumo de energías renovables en comparación con las no renovables globalmente y por continente durante los últimos 20 años."
   ]
  },
  {
   "cell_type": "code",
   "execution_count": 10,
   "id": "31369d48",
   "metadata": {},
   "outputs": [],
   "source": [
    "# Pregunta 3\n",
    "\n",
    "# Filtramos los datos desde el año 2000\n",
    "data_recent = data[data['year'] >= 2000].copy()\n",
    "\n",
    "# Agrupamos por año y continente\n",
    "df_energy = data_recent.groupby(['year', 'continent']).agg({\n",
    "    'Renewable Consumption': 'sum',\n",
    "    'Non Renewable Consumption': 'sum'\n",
    "}).reset_index()\n",
    "\n",
    "# Ordenamos el dataframe final por año \n",
    "df_energy = df_energy.sort_values('year')\n",
    "\n",
    "# Estandarizamos los nombres de las columnas\n",
    "df_energy.columns = [rename_columns(col) for col in df_energy.columns]\n",
    "\n",
    "# Pivotamos los datos de consumo renovable y no renovable por país y año\n",
    "renewable_df = data.pivot_table(values='Renewable Consumption', index='year', columns='continent', fill_value=0).reset_index()\n",
    "non_renewable_df = data.pivot_table(values='Non Renewable Consumption', index='year', columns='continent', fill_value=0).reset_index()\n",
    "\n",
    "# Guardamos los datos procesados para Flourish en un csv\n",
    "renewable_df.to_csv('data/pregunta3_renovables.csv', index=False)\n",
    "non_renewable_df.to_csv('data/pregunta3_no_renovables.csv', index=False)"
   ]
  },
  {
   "cell_type": "markdown",
   "id": "fa67a8fa",
   "metadata": {},
   "source": [
    "# Pregunta 4: Desarrollo sostenible\n",
    "\n",
    "Objetivo:\n",
    "Evaluar la correlación entre el aumento del PIB y los cambios en el consumo de energía per cápita en diferentes países."
   ]
  },
  {
   "cell_type": "code",
   "execution_count": 11,
   "id": "2b0a2d43",
   "metadata": {},
   "outputs": [],
   "source": [
    "# Pregunta 4\n",
    "\n",
    "# Seleccionamos los datos relevantes\n",
    "df_gdp_energy = data[['year', 'continent', 'country', 'gdp', 'energy_per_capita', 'population']]\n",
    "\n",
    "# Eliminamos las filas donde 'gdp' o 'energy_per_capita' sean iguales a 0\n",
    "df_gdp_energy = df_gdp_energy[(df_gdp_energy['gdp'] != 0) & (df_gdp_energy['energy_per_capita'] != 0)]\n",
    "\n",
    "# Ordenamos los datos por la columna 'year'\n",
    "df_gdp_energy = df_gdp_energy.sort_values(by='year')\n",
    "\n",
    "# Estandarizamos los nombres de las columnas\n",
    "df_gdp_energy.columns = [rename_columns(col) for col in df_gdp_energy.columns]\n",
    "\n",
    "# Guardamos los datos procesados para Flourish en un csv\n",
    "df_gdp_energy.to_csv('data/pregunta4.csv', index=False, decimal='.')\n"
   ]
  },
  {
   "cell_type": "markdown",
   "id": "1254661a",
   "metadata": {},
   "source": [
    "# Pregunta 5: Evolución consumo renovables y no renovables\n",
    "\n",
    "Objetivo: Identificar qué países lideran el consumo de energía renovable y no renovable"
   ]
  },
  {
   "cell_type": "code",
   "execution_count": 12,
   "id": "93526373",
   "metadata": {},
   "outputs": [],
   "source": [
    "# Pregunta 5\n",
    "\n",
    "# Cargamos el csv con las banderas\n",
    "flags = pd.read_csv('data/banderas.csv', delimiter=';') \n",
    "\n",
    "# Pivotamos los datos de consumo renovable y no renovable por país y año\n",
    "renewable_df = data.pivot_table(values='Renewable Consumption', index=['country', 'continent'], columns='year', fill_value=0).reset_index()\n",
    "non_renewable_df = data.pivot_table(values='Non Renewable Consumption', index=['country', 'continent'], columns='year', fill_value=0).reset_index()\n",
    "\n",
    "# Fusionamos la información de las banderas con los dataframes de consumo energético correspondiente\n",
    "renewable_with_flags = pd.merge(renewable_df, flags, on='country', how='left')\n",
    "non_renewable_with_flags = pd.merge(non_renewable_df, flags, on='country', how='left')\n",
    "\n",
    "# Estandarizamos los nombres de las columnas\n",
    "non_renewable_with_flags.columns = [rename_columns(col) for col in non_renewable_with_flags.columns]\n",
    "renewable_with_flags.columns = [rename_columns(col) for col in renewable_with_flags.columns]\n",
    "\n",
    "# Guardamos los datos procesados para Flourish en un csv\n",
    "renewable_with_flags.to_csv('data/pregunta5_top_consumo_renovables.csv', index=False)\n",
    "non_renewable_with_flags.to_csv('data/pregunta5_top_consumo_no_renovables.csv', index=False)"
   ]
  },
  {
   "cell_type": "markdown",
   "id": "5a440a92",
   "metadata": {},
   "source": [
    "# Pregunta 6: Liderazgo en renovables\n",
    "\n",
    "Objetivo:\n",
    "Identificar qué países han mostrado las mayores tasas de cambio en la producción y consumo de energías renovables (solar y eólica)."
   ]
  },
  {
   "cell_type": "code",
   "execution_count": 13,
   "id": "acac8cbd",
   "metadata": {},
   "outputs": [],
   "source": [
    "# Pregunta 6\n",
    "# Calculamos la tasa de cambio en la producción de energía solar y eólica\n",
    "\n",
    "# Cargamos el csv con las banderas\n",
    "flags = pd.read_csv('data/banderas.csv', delimiter=';') \n",
    "\n",
    "# Filtramos los datos relevantes y selecccionamos los datos a partir del año 2000 \n",
    "df_wind_solar = data.loc[data['year'] >= 2000, ['year', 'continent', 'country', 'solar_electricity', 'wind_electricity','solar_consumption','wind_consumption']].copy()\n",
    "\n",
    "# Calculamos el total de energía solar + eólica generada\n",
    "df_wind_solar['generated_solar_wind'] = df_wind_solar['solar_electricity'] + df_wind_solar['wind_electricity']\n",
    "\n",
    "# Calculamos el total de energía solar + eólica consumida\n",
    "df_wind_solar['consumption_solar_wind'] = df_wind_solar['solar_consumption'] + df_wind_solar['wind_consumption']\n",
    "\n",
    "# Pivotamos los datos para obtener la estructura deseada\n",
    "generated_df = df_wind_solar.pivot_table(values='generated_solar_wind', index=['country', 'continent'], columns='year', fill_value=0).reset_index()\n",
    "consumption_df = df_wind_solar.pivot_table(values='consumption_solar_wind', index=['country', 'continent'], columns='year', fill_value=0).reset_index()\n",
    "\n",
    "# Fusionamos la información de las banderas con los dataframes\n",
    "generated_with_flags = pd.merge(generated_df, flags, on='country', how='left')\n",
    "consumption_with_flags = pd.merge(consumption_df, flags, on='country', how='left')\n",
    "\n",
    "# Estandarizamos los nombres de las columnas\n",
    "generated_with_flags.columns = [rename_columns(col) for col in generated_with_flags.columns]\n",
    "consumption_with_flags.columns = [rename_columns(col) for col in consumption_with_flags.columns]\n",
    "\n",
    "\n",
    "# Guardamos los datos procesados para Flourish en un csv\n",
    "generated_with_flags.to_csv('data/pregunta6_generado.csv', index=False)\n",
    "consumption_with_flags.to_csv('data/pregunta6_consumido.csv', index=False)"
   ]
  }
 ],
 "metadata": {
  "kernelspec": {
   "display_name": "Python 3 (ipykernel)",
   "language": "python",
   "name": "python3"
  },
  "language_info": {
   "codemirror_mode": {
    "name": "ipython",
    "version": 3
   },
   "file_extension": ".py",
   "mimetype": "text/x-python",
   "name": "python",
   "nbconvert_exporter": "python",
   "pygments_lexer": "ipython3",
   "version": "3.9.7"
  }
 },
 "nbformat": 4,
 "nbformat_minor": 5
}
